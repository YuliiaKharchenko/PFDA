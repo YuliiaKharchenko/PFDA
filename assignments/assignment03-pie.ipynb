{
 "cells": [
  {
   "cell_type": "markdown",
   "metadata": {},
   "source": [
    "***\n",
    "\n",
    "<div align=\"center\">\n",
    "\n",
    "## Assignment 3 domains\n",
    "\n",
    "</div>\n",
    "\n",
    "***"
   ]
  },
  {
   "cell_type": "markdown",
   "metadata": {},
   "source": [
    "Import nessesary packages"
   ]
  },
  {
   "cell_type": "code",
   "execution_count": 78,
   "metadata": {},
   "outputs": [],
   "source": [
    "import matplotlib.pyplot as plt\n",
    "import pandas as pd\n",
    "import numpy as np"
   ]
  },
  {
   "cell_type": "markdown",
   "metadata": {},
   "source": [
    "Load the data"
   ]
  },
  {
   "cell_type": "code",
   "execution_count": 79,
   "metadata": {},
   "outputs": [
    {
     "data": {
      "text/html": [
       "<div>\n",
       "<style scoped>\n",
       "    .dataframe tbody tr th:only-of-type {\n",
       "        vertical-align: middle;\n",
       "    }\n",
       "\n",
       "    .dataframe tbody tr th {\n",
       "        vertical-align: top;\n",
       "    }\n",
       "\n",
       "    .dataframe thead th {\n",
       "        text-align: right;\n",
       "    }\n",
       "</style>\n",
       "<table border=\"1\" class=\"dataframe\">\n",
       "  <thead>\n",
       "    <tr style=\"text-align: right;\">\n",
       "      <th></th>\n",
       "      <th>Index</th>\n",
       "      <th>User Id</th>\n",
       "      <th>First Name</th>\n",
       "      <th>Last Name</th>\n",
       "      <th>Sex</th>\n",
       "      <th>Email</th>\n",
       "      <th>Phone</th>\n",
       "      <th>Date of birth</th>\n",
       "      <th>Job Title</th>\n",
       "    </tr>\n",
       "  </thead>\n",
       "  <tbody>\n",
       "    <tr>\n",
       "      <th>0</th>\n",
       "      <td>1</td>\n",
       "      <td>8717bbf45cCDbEe</td>\n",
       "      <td>Shelia</td>\n",
       "      <td>Mahoney</td>\n",
       "      <td>Male</td>\n",
       "      <td>pwarner@example.org</td>\n",
       "      <td>857.139.8239</td>\n",
       "      <td>2014-01-27</td>\n",
       "      <td>Probation officer</td>\n",
       "    </tr>\n",
       "    <tr>\n",
       "      <th>1</th>\n",
       "      <td>2</td>\n",
       "      <td>3d5AD30A4cD38ed</td>\n",
       "      <td>Jo</td>\n",
       "      <td>Rivers</td>\n",
       "      <td>Female</td>\n",
       "      <td>fergusonkatherine@example.net</td>\n",
       "      <td>+1-950-759-8687</td>\n",
       "      <td>1931-07-26</td>\n",
       "      <td>Dancer</td>\n",
       "    </tr>\n",
       "    <tr>\n",
       "      <th>2</th>\n",
       "      <td>3</td>\n",
       "      <td>810Ce0F276Badec</td>\n",
       "      <td>Sheryl</td>\n",
       "      <td>Lowery</td>\n",
       "      <td>Female</td>\n",
       "      <td>fhoward@example.org</td>\n",
       "      <td>(599)782-0605</td>\n",
       "      <td>2013-11-25</td>\n",
       "      <td>Copy</td>\n",
       "    </tr>\n",
       "  </tbody>\n",
       "</table>\n",
       "</div>"
      ],
      "text/plain": [
       "   Index          User Id First Name Last Name     Sex  \\\n",
       "0      1  8717bbf45cCDbEe     Shelia   Mahoney    Male   \n",
       "1      2  3d5AD30A4cD38ed         Jo    Rivers  Female   \n",
       "2      3  810Ce0F276Badec     Sheryl    Lowery  Female   \n",
       "\n",
       "                           Email            Phone Date of birth  \\\n",
       "0            pwarner@example.org     857.139.8239    2014-01-27   \n",
       "1  fergusonkatherine@example.net  +1-950-759-8687    1931-07-26   \n",
       "2            fhoward@example.org    (599)782-0605    2013-11-25   \n",
       "\n",
       "           Job Title  \n",
       "0  Probation officer  \n",
       "1             Dancer  \n",
       "2               Copy  "
      ]
     },
     "execution_count": 79,
     "metadata": {},
     "output_type": "execute_result"
    }
   ],
   "source": [
    "dfpeople = pd.read_csv(\"https://drive.google.com/uc?id=1AWPf-pJodJKeHsARQK_RHiNsE8fjPCVK&export=download\")\n",
    "dfpeople.head(3)"
   ]
  },
  {
   "cell_type": "markdown",
   "metadata": {},
   "source": [
    "Show general information about the dataset, including column names, non-null counts, and data types"
   ]
  },
  {
   "cell_type": "code",
   "execution_count": 80,
   "metadata": {},
   "outputs": [
    {
     "name": "stdout",
     "output_type": "stream",
     "text": [
      "<class 'pandas.core.frame.DataFrame'>\n",
      "RangeIndex: 1000 entries, 0 to 999\n",
      "Data columns (total 9 columns):\n",
      " #   Column         Non-Null Count  Dtype \n",
      "---  ------         --------------  ----- \n",
      " 0   Index          1000 non-null   int64 \n",
      " 1   User Id        1000 non-null   object\n",
      " 2   First Name     1000 non-null   object\n",
      " 3   Last Name      1000 non-null   object\n",
      " 4   Sex            1000 non-null   object\n",
      " 5   Email          1000 non-null   object\n",
      " 6   Phone          1000 non-null   object\n",
      " 7   Date of birth  1000 non-null   object\n",
      " 8   Job Title      1000 non-null   object\n",
      "dtypes: int64(1), object(8)\n",
      "memory usage: 70.4+ KB\n"
     ]
    }
   ],
   "source": [
    "dfpeople.info()"
   ]
  },
  {
   "cell_type": "markdown",
   "metadata": {},
   "source": [
    "Extract email domains from the \"Email\" column and store them in the \"domain\" column."
   ]
  },
  {
   "cell_type": "code",
   "execution_count": 81,
   "metadata": {},
   "outputs": [
    {
     "data": {
      "text/html": [
       "<div>\n",
       "<style scoped>\n",
       "    .dataframe tbody tr th:only-of-type {\n",
       "        vertical-align: middle;\n",
       "    }\n",
       "\n",
       "    .dataframe tbody tr th {\n",
       "        vertical-align: top;\n",
       "    }\n",
       "\n",
       "    .dataframe thead th {\n",
       "        text-align: right;\n",
       "    }\n",
       "</style>\n",
       "<table border=\"1\" class=\"dataframe\">\n",
       "  <thead>\n",
       "    <tr style=\"text-align: right;\">\n",
       "      <th></th>\n",
       "      <th>Index</th>\n",
       "      <th>User Id</th>\n",
       "      <th>First Name</th>\n",
       "      <th>Last Name</th>\n",
       "      <th>Sex</th>\n",
       "      <th>Email</th>\n",
       "      <th>Phone</th>\n",
       "      <th>Date of birth</th>\n",
       "      <th>Job Title</th>\n",
       "      <th>domain</th>\n",
       "    </tr>\n",
       "  </thead>\n",
       "  <tbody>\n",
       "    <tr>\n",
       "      <th>365</th>\n",
       "      <td>366</td>\n",
       "      <td>5BB4737f69cBBeD</td>\n",
       "      <td>Kaylee</td>\n",
       "      <td>Dixon</td>\n",
       "      <td>Female</td>\n",
       "      <td>brendanstewart@example.net</td>\n",
       "      <td>(127)899-0101</td>\n",
       "      <td>1986-07-04</td>\n",
       "      <td>Scientist, research (physical sciences)</td>\n",
       "      <td>example.net</td>\n",
       "    </tr>\n",
       "    <tr>\n",
       "      <th>37</th>\n",
       "      <td>38</td>\n",
       "      <td>8b8Aab259B2a00D</td>\n",
       "      <td>Stefanie</td>\n",
       "      <td>Sherman</td>\n",
       "      <td>Male</td>\n",
       "      <td>rickeykelley@example.com</td>\n",
       "      <td>557-620-5663</td>\n",
       "      <td>1966-10-26</td>\n",
       "      <td>Hospital doctor</td>\n",
       "      <td>example.com</td>\n",
       "    </tr>\n",
       "    <tr>\n",
       "      <th>870</th>\n",
       "      <td>871</td>\n",
       "      <td>D7A4cDC318400a9</td>\n",
       "      <td>Savannah</td>\n",
       "      <td>Marsh</td>\n",
       "      <td>Female</td>\n",
       "      <td>wesleycontreras@example.com</td>\n",
       "      <td>+1-356-433-2853x10497</td>\n",
       "      <td>1909-08-01</td>\n",
       "      <td>Social researcher</td>\n",
       "      <td>example.com</td>\n",
       "    </tr>\n",
       "    <tr>\n",
       "      <th>900</th>\n",
       "      <td>901</td>\n",
       "      <td>EABBd81DFeeD7ab</td>\n",
       "      <td>Tracie</td>\n",
       "      <td>Trevino</td>\n",
       "      <td>Female</td>\n",
       "      <td>dominicochoa@example.com</td>\n",
       "      <td>364.579.0496x4459</td>\n",
       "      <td>1954-07-15</td>\n",
       "      <td>Fish farm manager</td>\n",
       "      <td>example.com</td>\n",
       "    </tr>\n",
       "    <tr>\n",
       "      <th>976</th>\n",
       "      <td>977</td>\n",
       "      <td>220243491cdFd7A</td>\n",
       "      <td>Dennis</td>\n",
       "      <td>Hampton</td>\n",
       "      <td>Female</td>\n",
       "      <td>dorothy10@example.com</td>\n",
       "      <td>7241148148</td>\n",
       "      <td>1964-01-04</td>\n",
       "      <td>Consulting civil engineer</td>\n",
       "      <td>example.com</td>\n",
       "    </tr>\n",
       "  </tbody>\n",
       "</table>\n",
       "</div>"
      ],
      "text/plain": [
       "     Index          User Id First Name Last Name     Sex  \\\n",
       "365    366  5BB4737f69cBBeD     Kaylee     Dixon  Female   \n",
       "37      38  8b8Aab259B2a00D   Stefanie   Sherman    Male   \n",
       "870    871  D7A4cDC318400a9   Savannah     Marsh  Female   \n",
       "900    901  EABBd81DFeeD7ab     Tracie   Trevino  Female   \n",
       "976    977  220243491cdFd7A     Dennis   Hampton  Female   \n",
       "\n",
       "                           Email                  Phone Date of birth  \\\n",
       "365   brendanstewart@example.net          (127)899-0101    1986-07-04   \n",
       "37      rickeykelley@example.com           557-620-5663    1966-10-26   \n",
       "870  wesleycontreras@example.com  +1-356-433-2853x10497    1909-08-01   \n",
       "900     dominicochoa@example.com      364.579.0496x4459    1954-07-15   \n",
       "976        dorothy10@example.com             7241148148    1964-01-04   \n",
       "\n",
       "                                   Job Title       domain  \n",
       "365  Scientist, research (physical sciences)  example.net  \n",
       "37                           Hospital doctor  example.com  \n",
       "870                        Social researcher  example.com  \n",
       "900                        Fish farm manager  example.com  \n",
       "976                Consulting civil engineer  example.com  "
      ]
     },
     "execution_count": 81,
     "metadata": {},
     "output_type": "execute_result"
    }
   ],
   "source": [
    "dfpeople['domain'] = dfpeople['Email'].str.split('@').str[1]\n",
    "dfpeople.sample(5)"
   ]
  },
  {
   "cell_type": "markdown",
   "metadata": {},
   "source": [
    "Create a pie chart of peoples email domains, with both percentage and absolute values"
   ]
  },
  {
   "cell_type": "code",
   "execution_count": 82,
   "metadata": {},
   "outputs": [
    {
     "data": {
      "image/png": "[encoded data removed]",
      "text/plain": [
       "<Figure size 640x480 with 1 Axes>"
      ]
     },
     "metadata": {},
     "output_type": "display_data"
    }
   ],
   "source": [
    "# count each unique value in the \"domain\" column\n",
    "domain_counts = dfpeople[\"domain\"].value_counts()\n",
    "\n",
    "# choose the style\n",
    "plt.style.use(\"grayscale\")\n",
    "\n",
    "# choose the colors\n",
    "colors = [\"yellowgreen\", \"gold\", \"lightskyblue\"]\n",
    "\n",
    "# function to display both percentage and absolute values\n",
    "def absolute_value(pct):\n",
    "    absolute = int(np.round(pct / 100. * np.sum(domain_counts)))\n",
    "    return f\"{pct:.1f}%\\n({absolute})\"\n",
    "\n",
    "# create a pie chart\n",
    "plt.figure(figsize=(8, 6))\n",
    "plt.pie(domain_counts, autopct=absolute_value, startangle=90, colors=colors, shadow=True)\n",
    "\n",
    "# add a legend\n",
    "plt.legend(domain_counts.index, title=\"Domains\",loc=\"center left\", bbox_to_anchor=(1, 0.5, 0.5, 1))\n",
    "\n",
    "# show the pie chart\n",
    "plt.show()"
   ]
  },
  {
   "cell_type": "markdown",
   "metadata": {},
   "source": [
    "***\n",
    "\n",
    "### END\n",
    "\n",
    "***"
   ]
  }
 ],
 "metadata": {
  "kernelspec": {
   "display_name": "base",
   "language": "python",
   "name": "python3"
  },
  "language_info": {
   "codemirror_mode": {
    "name": "ipython",
    "version": 3
   },
   "file_extension": ".py",
   "mimetype": "text/x-python",
   "name": "python",
   "nbconvert_exporter": "python",
   "pygments_lexer": "ipython3",
   "version": "3.11.5"
  }
 },
 "nbformat": 4,
 "nbformat_minor": 2
}
