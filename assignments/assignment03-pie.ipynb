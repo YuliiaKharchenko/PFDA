{
 "cells": [
  {
   "cell_type": "markdown",
   "metadata": {},
   "source": [
    "***\n",
    "\n",
    "<div align=\"center\">\n",
    "\n",
    "## Assignment 3 domains\n",
    "\n",
    "</div>\n",
    "\n",
    "***"
   ]
  },
  {
   "cell_type": "markdown",
   "metadata": {},
   "source": [
    "Import nessesary packages"
   ]
  },
  {
   "cell_type": "code",
   "execution_count": 7,
   "metadata": {},
   "outputs": [],
   "source": [
    "import matplotlib.pyplot as plt\n",
    "import pandas as pd\n",
    "import numpy as np"
   ]
  },
  {
   "cell_type": "markdown",
   "metadata": {},
   "source": [
    "Load the data"
   ]
  },
  {
   "cell_type": "code",
   "execution_count": 8,
   "metadata": {},
   "outputs": [
    {
     "data": {
      "text/html": [
       "<div>\n",
       "<style scoped>\n",
       "    .dataframe tbody tr th:only-of-type {\n",
       "        vertical-align: middle;\n",
       "    }\n",
       "\n",
       "    .dataframe tbody tr th {\n",
       "        vertical-align: top;\n",
       "    }\n",
       "\n",
       "    .dataframe thead th {\n",
       "        text-align: right;\n",
       "    }\n",
       "</style>\n",
       "<table border=\"1\" class=\"dataframe\">\n",
       "  <thead>\n",
       "    <tr style=\"text-align: right;\">\n",
       "      <th></th>\n",
       "      <th>Index</th>\n",
       "      <th>User Id</th>\n",
       "      <th>First Name</th>\n",
       "      <th>Last Name</th>\n",
       "      <th>Sex</th>\n",
       "      <th>Email</th>\n",
       "      <th>Phone</th>\n",
       "      <th>Date of birth</th>\n",
       "      <th>Job Title</th>\n",
       "    </tr>\n",
       "  </thead>\n",
       "  <tbody>\n",
       "    <tr>\n",
       "      <th>0</th>\n",
       "      <td>1</td>\n",
       "      <td>8717bbf45cCDbEe</td>\n",
       "      <td>Shelia</td>\n",
       "      <td>Mahoney</td>\n",
       "      <td>Male</td>\n",
       "      <td>pwarner@example.org</td>\n",
       "      <td>857.139.8239</td>\n",
       "      <td>2014-01-27</td>\n",
       "      <td>Probation officer</td>\n",
       "    </tr>\n",
       "    <tr>\n",
       "      <th>1</th>\n",
       "      <td>2</td>\n",
       "      <td>3d5AD30A4cD38ed</td>\n",
       "      <td>Jo</td>\n",
       "      <td>Rivers</td>\n",
       "      <td>Female</td>\n",
       "      <td>fergusonkatherine@example.net</td>\n",
       "      <td>+1-950-759-8687</td>\n",
       "      <td>1931-07-26</td>\n",
       "      <td>Dancer</td>\n",
       "    </tr>\n",
       "    <tr>\n",
       "      <th>2</th>\n",
       "      <td>3</td>\n",
       "      <td>810Ce0F276Badec</td>\n",
       "      <td>Sheryl</td>\n",
       "      <td>Lowery</td>\n",
       "      <td>Female</td>\n",
       "      <td>fhoward@example.org</td>\n",
       "      <td>(599)782-0605</td>\n",
       "      <td>2013-11-25</td>\n",
       "      <td>Copy</td>\n",
       "    </tr>\n",
       "  </tbody>\n",
       "</table>\n",
       "</div>"
      ],
      "text/plain": [
       "   Index          User Id First Name Last Name     Sex  \\\n",
       "0      1  8717bbf45cCDbEe     Shelia   Mahoney    Male   \n",
       "1      2  3d5AD30A4cD38ed         Jo    Rivers  Female   \n",
       "2      3  810Ce0F276Badec     Sheryl    Lowery  Female   \n",
       "\n",
       "                           Email            Phone Date of birth  \\\n",
       "0            pwarner@example.org     857.139.8239    2014-01-27   \n",
       "1  fergusonkatherine@example.net  +1-950-759-8687    1931-07-26   \n",
       "2            fhoward@example.org    (599)782-0605    2013-11-25   \n",
       "\n",
       "           Job Title  \n",
       "0  Probation officer  \n",
       "1             Dancer  \n",
       "2               Copy  "
      ]
     },
     "execution_count": 8,
     "metadata": {},
     "output_type": "execute_result"
    }
   ],
   "source": [
    "dfpeople = pd.read_csv(\"https://drive.google.com/uc?id=1AWPf-pJodJKeHsARQK_RHiNsE8fjPCVK&export=download\")\n",
    "dfpeople.head(3)"
   ]
  },
  {
   "cell_type": "markdown",
   "metadata": {},
   "source": [
    "Show general information about the dataset, including column names, non-null counts, and data types"
   ]
  },
  {
   "cell_type": "code",
   "execution_count": 9,
   "metadata": {},
   "outputs": [
    {
     "name": "stdout",
     "output_type": "stream",
     "text": [
      "<class 'pandas.core.frame.DataFrame'>\n",
      "RangeIndex: 1000 entries, 0 to 999\n",
      "Data columns (total 9 columns):\n",
      " #   Column         Non-Null Count  Dtype \n",
      "---  ------         --------------  ----- \n",
      " 0   Index          1000 non-null   int64 \n",
      " 1   User Id        1000 non-null   object\n",
      " 2   First Name     1000 non-null   object\n",
      " 3   Last Name      1000 non-null   object\n",
      " 4   Sex            1000 non-null   object\n",
      " 5   Email          1000 non-null   object\n",
      " 6   Phone          1000 non-null   object\n",
      " 7   Date of birth  1000 non-null   object\n",
      " 8   Job Title      1000 non-null   object\n",
      "dtypes: int64(1), object(8)\n",
      "memory usage: 70.4+ KB\n"
     ]
    }
   ],
   "source": [
    "dfpeople.info()"
   ]
  },
  {
   "cell_type": "markdown",
   "metadata": {},
   "source": [
    "Extract email domains from the \"Email\" column and store them in the \"domain\" column."
   ]
  },
  {
   "cell_type": "code",
   "execution_count": 10,
   "metadata": {},
   "outputs": [
    {
     "data": {
      "text/html": [
       "<div>\n",
       "<style scoped>\n",
       "    .dataframe tbody tr th:only-of-type {\n",
       "        vertical-align: middle;\n",
       "    }\n",
       "\n",
       "    .dataframe tbody tr th {\n",
       "        vertical-align: top;\n",
       "    }\n",
       "\n",
       "    .dataframe thead th {\n",
       "        text-align: right;\n",
       "    }\n",
       "</style>\n",
       "<table border=\"1\" class=\"dataframe\">\n",
       "  <thead>\n",
       "    <tr style=\"text-align: right;\">\n",
       "      <th></th>\n",
       "      <th>Index</th>\n",
       "      <th>User Id</th>\n",
       "      <th>First Name</th>\n",
       "      <th>Last Name</th>\n",
       "      <th>Sex</th>\n",
       "      <th>Email</th>\n",
       "      <th>Phone</th>\n",
       "      <th>Date of birth</th>\n",
       "      <th>Job Title</th>\n",
       "      <th>domain</th>\n",
       "    </tr>\n",
       "  </thead>\n",
       "  <tbody>\n",
       "    <tr>\n",
       "      <th>475</th>\n",
       "      <td>476</td>\n",
       "      <td>24ffE1aefa66372</td>\n",
       "      <td>Candice</td>\n",
       "      <td>Cervantes</td>\n",
       "      <td>Male</td>\n",
       "      <td>fpowell@example.net</td>\n",
       "      <td>(021)972-2970x7765</td>\n",
       "      <td>1978-03-04</td>\n",
       "      <td>Chartered certified accountant</td>\n",
       "      <td>example.net</td>\n",
       "    </tr>\n",
       "    <tr>\n",
       "      <th>550</th>\n",
       "      <td>551</td>\n",
       "      <td>6da0A79eB0aAF5c</td>\n",
       "      <td>Rebecca</td>\n",
       "      <td>Castillo</td>\n",
       "      <td>Female</td>\n",
       "      <td>parksseth@example.net</td>\n",
       "      <td>001-702-861-2892x431</td>\n",
       "      <td>1935-02-14</td>\n",
       "      <td>Sports therapist</td>\n",
       "      <td>example.net</td>\n",
       "    </tr>\n",
       "    <tr>\n",
       "      <th>812</th>\n",
       "      <td>813</td>\n",
       "      <td>d0Fd08CEbA41c09</td>\n",
       "      <td>Rebekah</td>\n",
       "      <td>Koch</td>\n",
       "      <td>Female</td>\n",
       "      <td>livingstonrandy@example.com</td>\n",
       "      <td>754-427-9326</td>\n",
       "      <td>1929-08-10</td>\n",
       "      <td>Television production assistant</td>\n",
       "      <td>example.com</td>\n",
       "    </tr>\n",
       "    <tr>\n",
       "      <th>854</th>\n",
       "      <td>855</td>\n",
       "      <td>5BAA7F0Bf70A588</td>\n",
       "      <td>Kristi</td>\n",
       "      <td>Orr</td>\n",
       "      <td>Female</td>\n",
       "      <td>ashley82@example.org</td>\n",
       "      <td>(830)679-1944</td>\n",
       "      <td>1948-04-21</td>\n",
       "      <td>Quality manager</td>\n",
       "      <td>example.org</td>\n",
       "    </tr>\n",
       "    <tr>\n",
       "      <th>859</th>\n",
       "      <td>860</td>\n",
       "      <td>f4c82B1EDBe3a19</td>\n",
       "      <td>Ricardo</td>\n",
       "      <td>Washington</td>\n",
       "      <td>Male</td>\n",
       "      <td>wlester@example.com</td>\n",
       "      <td>710-080-9153</td>\n",
       "      <td>1973-07-12</td>\n",
       "      <td>Computer games developer</td>\n",
       "      <td>example.com</td>\n",
       "    </tr>\n",
       "  </tbody>\n",
       "</table>\n",
       "</div>"
      ],
      "text/plain": [
       "     Index          User Id First Name   Last Name     Sex  \\\n",
       "475    476  24ffE1aefa66372    Candice   Cervantes    Male   \n",
       "550    551  6da0A79eB0aAF5c    Rebecca    Castillo  Female   \n",
       "812    813  d0Fd08CEbA41c09    Rebekah        Koch  Female   \n",
       "854    855  5BAA7F0Bf70A588     Kristi         Orr  Female   \n",
       "859    860  f4c82B1EDBe3a19    Ricardo  Washington    Male   \n",
       "\n",
       "                           Email                 Phone Date of birth  \\\n",
       "475          fpowell@example.net    (021)972-2970x7765    1978-03-04   \n",
       "550        parksseth@example.net  001-702-861-2892x431    1935-02-14   \n",
       "812  livingstonrandy@example.com          754-427-9326    1929-08-10   \n",
       "854         ashley82@example.org         (830)679-1944    1948-04-21   \n",
       "859          wlester@example.com          710-080-9153    1973-07-12   \n",
       "\n",
       "                           Job Title       domain  \n",
       "475   Chartered certified accountant  example.net  \n",
       "550                 Sports therapist  example.net  \n",
       "812  Television production assistant  example.com  \n",
       "854                  Quality manager  example.org  \n",
       "859         Computer games developer  example.com  "
      ]
     },
     "execution_count": 10,
     "metadata": {},
     "output_type": "execute_result"
    }
   ],
   "source": [
    "dfpeople[\"domain\"] = dfpeople[\"Email\"].str.split(\"@\").str[1]\n",
    "dfpeople.sample(5)"
   ]
  },
  {
   "cell_type": "markdown",
   "metadata": {},
   "source": [
    "Create a pie chart of peoples email domains, with both percentage and absolute values"
   ]
  },
  {
   "cell_type": "code",
   "execution_count": 11,
   "metadata": {},
   "outputs": [
    {
     "data": {
      "image/png": "[encoded data removed]",
      "text/plain": [
       "<Figure size 800x600 with 1 Axes>"
      ]
     },
     "metadata": {},
     "output_type": "display_data"
    }
   ],
   "source": [
    "# count each unique value in the \"domain\" column\n",
    "domain_counts = dfpeople[\"domain\"].value_counts()\n",
    "\n",
    "# choose the style\n",
    "plt.style.use(\"grayscale\")\n",
    "\n",
    "# choose the colors\n",
    "colors = [\"yellowgreen\", \"gold\", \"lightskyblue\"]\n",
    "\n",
    "# function to display both percentage and absolute values\n",
    "def absolute_value(pct):\n",
    "    absolute = int(np.round(pct / 100. * np.sum(domain_counts)))\n",
    "    return f\"{pct:.1f}%\\n({absolute})\"\n",
    "\n",
    "# create a pie chart\n",
    "plt.figure(figsize=(8, 6))\n",
    "plt.pie(domain_counts, autopct=absolute_value, startangle=90, colors=colors, shadow=True)\n",
    "\n",
    "# add a legend\n",
    "plt.legend(domain_counts.index, title=\"Domains\",loc=\"center left\", bbox_to_anchor=(1, 0.5, 0.5, 1))\n",
    "\n",
    "# show the pie chart\n",
    "plt.show()"
   ]
  },
  {
   "cell_type": "markdown",
   "metadata": {},
   "source": [
    "***\n",
    "\n",
    "### END\n",
    "\n",
    "***"
   ]
  }
 ],
 "metadata": {
  "kernelspec": {
   "display_name": "base",
   "language": "python",
   "name": "python3"
  },
  "language_info": {
   "codemirror_mode": {
    "name": "ipython",
    "version": 3
   },
   "file_extension": ".py",
   "mimetype": "text/x-python",
   "name": "python",
   "nbconvert_exporter": "python",
   "pygments_lexer": "ipython3",
   "version": "3.11.5"
  }
 },
 "nbformat": 4,
 "nbformat_minor": 2
}
