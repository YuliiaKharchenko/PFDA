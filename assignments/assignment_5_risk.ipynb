{
 "cells": [
  {
   "cell_type": "markdown",
   "metadata": {},
   "source": [
    "***\n",
    "\n",
    "<div align=\"center\">\n",
    "\n",
    "## Assignment 5 risk\n",
    "\n",
    "</div>\n",
    "\n",
    "***"
   ]
  },
  {
   "cell_type": "markdown",
   "metadata": {},
   "source": [
    "Import nessesary packages"
   ]
  },
  {
   "cell_type": "code",
   "execution_count": 1,
   "metadata": {},
   "outputs": [],
   "source": [
    "\n",
    "import random\n",
    "import numpy as np\n",
    "import matplotlib.pyplot as plt\n"
   ]
  },
  {
   "cell_type": "code",
   "execution_count": 2,
   "metadata": {},
   "outputs": [],
   "source": [
    "# Define the number of simulations. \n",
    "num_sim = 1000\n",
    "\n",
    "# Create lists to store the losses.\n",
    "attacker_losslist = []\n",
    "defender_losslist = []"
   ]
  },
  {
   "cell_type": "code",
   "execution_count": 3,
   "metadata": {},
   "outputs": [
    {
     "name": "stdout",
     "output_type": "stream",
     "text": [
      "[2, 2, 1, 1, 1, 0, 0, 0, 1, 0, 2, 2, 0, 1, 1, 0, 1, 2, 0, 1, 2, 1, 1, 1, 1, 0, 2, 2, 1, 1, 0, 0, 2, 1, 0, 0, 2, 1, 2, 1, 1, 0, 1, 2, 1, 0, 1, 1, 2, 1, 2, 2, 0, 1, 2, 0, 1, 0, 1, 2, 1, 1, 2, 0, 0, 0, 2, 0, 2, 2, 1, 2, 0, 0, 2, 0, 2, 0, 2, 0, 2, 0, 2, 2, 2, 0, 1, 2, 2, 1, 2, 0, 0, 0, 0, 1, 1, 0, 1, 0, 2, 0, 2, 2, 0, 0, 1, 0, 2, 2, 1, 2, 0, 1, 2, 1, 2, 1, 1, 1, 0, 0, 0, 1, 1, 2, 2, 1, 1, 1, 0, 1, 2, 2, 2, 1, 0, 2, 0, 2, 0, 1, 1, 0, 2, 1, 2, 1, 1, 1, 0, 1, 2, 1, 1, 1, 2, 1, 2, 1, 2, 0, 1, 2, 2, 1, 0, 0, 1, 0, 1, 1, 1, 2, 0, 1, 0, 1, 1, 0, 0, 1, 0, 0, 0, 0, 1, 1, 2, 1, 2, 2, 2, 2, 0, 0, 0, 0, 0, 2, 2, 2, 0, 1, 2, 1, 2, 1, 0, 1, 1, 2, 2, 2, 2, 1, 1, 2, 1, 2, 2, 0, 0, 2, 1, 1, 1, 0, 0, 0, 0, 1, 0, 2, 1, 2, 0, 2, 0, 1, 1, 1, 2, 2, 0, 0, 2, 0, 0, 2, 0, 2, 2, 1, 2, 2, 0, 1, 1, 1, 2, 0, 2, 0, 1, 2, 2, 1, 2, 0, 0, 0, 0, 2, 0, 2, 1, 1, 1, 1, 1, 0, 2, 2, 0, 1, 0, 1, 0, 2, 0, 0, 1, 2, 2, 1, 0, 2, 1, 2, 2, 1, 1, 2, 0, 0, 1, 0, 2, 1, 2, 1, 0, 1, 1, 0, 0, 1, 0, 2, 1, 1, 0, 2, 1, 2, 1, 1, 0, 2, 0, 1, 1, 2, 1, 1, 1, 0, 2, 0, 2, 2, 0, 2, 1, 0, 0, 1, 2, 1, 2, 0, 0, 1, 2, 2, 1, 0, 2, 1, 1, 1, 1, 2, 1, 2, 2, 1, 0, 2, 0, 0, 0, 0, 1, 2, 1, 2, 1, 2, 2, 2, 0, 1, 0, 1, 1, 2, 0, 2, 1, 0, 1, 2, 2, 0, 0, 1, 1, 0, 1, 1, 1, 2, 2, 2, 2, 1, 0, 2, 0, 2, 0, 0, 0, 1, 2, 0, 2, 2, 1, 2, 2, 0, 2, 2, 2, 0, 1, 1, 0, 0, 1, 1, 0, 0, 1, 0, 0, 1, 2, 1, 1, 1, 2, 2, 2, 2, 2, 0, 0, 1, 2, 2, 1, 2, 2, 1, 1, 1, 2, 2, 2, 0, 1, 1, 1, 0, 1, 2, 2, 1, 2, 2, 0, 0, 1, 2, 0, 0, 2, 0, 0, 1, 1, 1, 2, 2, 1, 0, 0, 1, 1, 1, 1, 0, 0, 1, 0, 0, 2, 1, 2, 0, 0, 2, 0, 1, 1, 2, 0, 1, 0, 2, 2, 0, 2, 1, 0, 0, 2, 1, 1, 1, 2, 1, 0, 2, 2, 1, 2, 1, 0, 0, 2, 2, 1, 2, 0, 1, 0, 0, 0, 2, 2, 0, 1, 1, 0, 2, 2, 0, 0, 0, 1, 0, 2, 0, 2, 0, 0, 2, 0, 1, 2, 0, 1, 2, 0, 2, 1, 0, 0, 1, 2, 0, 0, 2, 0, 0, 0, 2, 2, 1, 0, 1, 2, 0, 2, 1, 2, 2, 2, 1, 0, 0, 2, 1, 2, 2, 0, 1, 2, 0, 2, 0, 1, 0, 0, 0, 1, 1, 0, 1, 2, 1, 0, 0, 1, 2, 1, 0, 1, 0, 0, 0, 2, 2, 1, 1, 0, 1, 1, 2, 2, 2, 2, 1, 0, 2, 2, 2, 2, 2, 2, 0, 1, 1, 2, 2, 1, 0, 2, 0, 2, 0, 0, 1, 1, 0, 0, 1, 1, 0, 0, 1, 0, 1, 2, 0, 0, 2, 2, 2, 0, 0, 1, 2, 1, 0, 2, 2, 2, 2, 0, 1, 1, 1, 2, 1, 1, 1, 2, 1, 2, 1, 1, 1, 0, 1, 0, 0, 2, 0, 1, 0, 0, 0, 1, 0, 1, 0, 2, 0, 0, 2, 1, 1, 0, 0, 2, 2, 0, 1, 1, 1, 1, 2, 2, 0, 1, 0, 2, 0, 1, 1, 1, 2, 2, 0, 1, 1, 0, 2, 0, 1, 0, 0, 2, 0, 0, 1, 2, 0, 1, 0, 0, 0, 2, 2, 1, 2, 0, 0, 2, 1, 0, 1, 1, 1, 2, 0, 1, 2, 0, 1, 0, 1, 0, 0, 2, 1, 2, 1, 0, 0, 1, 1, 1, 0, 1, 1, 2, 2, 0, 2, 0, 2, 0, 0, 1, 2, 1, 0, 0, 2, 1, 1, 0, 1, 0, 2, 2, 0, 2, 1, 1, 1, 1, 0, 1, 0, 2, 1, 2, 0, 1, 1, 0, 1, 1, 1, 1, 2, 1, 1, 0, 1, 2, 1, 2, 2, 1, 2, 0, 2, 0, 1, 0, 0, 2, 0, 1, 1, 1, 0, 1, 2, 0, 2, 2, 1, 2, 2, 1, 0, 2, 1, 0, 0, 2, 1, 0, 2, 1, 0, 1, 1, 1, 0, 2, 1, 1, 0, 0, 2, 0, 0, 0, 1, 1, 0, 0, 2, 2, 0, 0, 0, 2, 2, 0, 2, 2, 1, 1, 2, 1, 2, 0, 2, 1, 1, 1, 1, 2, 2, 1, 0, 1, 0, 0, 0, 2, 0, 1, 0, 1, 0, 1, 0, 0, 0, 2, 0, 1, 1, 0, 2, 1, 0, 2, 1, 1, 0, 2, 2, 0, 0, 2, 0, 2, 2, 0, 0, 0, 1, 0, 0, 1, 0, 1, 1, 1, 0, 0, 0, 2, 0, 2, 2, 2, 0, 1, 0, 2, 0, 0, 1, 1, 1, 0, 1, 0, 1, 2, 1, 1, 2, 1, 1, 2, 2, 2, 0, 0, 1, 1, 2, 0, 0]\n",
      "[0, 0, 1, 1, 1, 2, 2, 2, 1, 2, 0, 0, 2, 1, 1, 2, 1, 0, 2, 1, 0, 1, 1, 1, 1, 2, 0, 0, 1, 1, 2, 2, 0, 1, 2, 2, 0, 1, 0, 1, 1, 2, 1, 0, 1, 2, 1, 1, 0, 1, 0, 0, 2, 1, 0, 2, 1, 2, 1, 0, 1, 1, 0, 2, 2, 2, 0, 2, 0, 0, 1, 0, 2, 2, 0, 2, 0, 2, 0, 2, 0, 2, 0, 0, 0, 2, 1, 0, 0, 1, 0, 2, 2, 2, 2, 1, 1, 2, 1, 2, 0, 2, 0, 0, 2, 2, 1, 2, 0, 0, 1, 0, 2, 1, 0, 1, 0, 1, 1, 1, 2, 2, 2, 1, 1, 0, 0, 1, 1, 1, 2, 1, 0, 0, 0, 1, 2, 0, 2, 0, 2, 1, 1, 2, 0, 1, 0, 1, 1, 1, 2, 1, 0, 1, 1, 1, 0, 1, 0, 1, 0, 2, 1, 0, 0, 1, 2, 2, 1, 2, 1, 1, 1, 0, 2, 1, 2, 1, 1, 2, 2, 1, 2, 2, 2, 2, 1, 1, 0, 1, 0, 0, 0, 0, 2, 2, 2, 2, 2, 0, 0, 0, 2, 1, 0, 1, 0, 1, 2, 1, 1, 0, 0, 0, 0, 1, 1, 0, 1, 0, 0, 2, 2, 0, 1, 1, 1, 2, 2, 2, 2, 1, 2, 0, 1, 0, 2, 0, 2, 1, 1, 1, 0, 0, 2, 2, 0, 2, 2, 0, 2, 0, 0, 1, 0, 0, 2, 1, 1, 1, 0, 2, 0, 2, 1, 0, 0, 1, 0, 2, 2, 2, 2, 0, 2, 0, 1, 1, 1, 1, 1, 2, 0, 0, 2, 1, 2, 1, 2, 0, 2, 2, 1, 0, 0, 1, 2, 0, 1, 0, 0, 1, 1, 0, 2, 2, 1, 2, 0, 1, 0, 1, 2, 1, 1, 2, 2, 1, 2, 0, 1, 1, 2, 0, 1, 0, 1, 1, 2, 0, 2, 1, 1, 0, 1, 1, 1, 2, 0, 2, 0, 0, 2, 0, 1, 2, 2, 1, 0, 1, 0, 2, 2, 1, 0, 0, 1, 2, 0, 1, 1, 1, 1, 0, 1, 0, 0, 1, 2, 0, 2, 2, 2, 2, 1, 0, 1, 0, 1, 0, 0, 0, 2, 1, 2, 1, 1, 0, 2, 0, 1, 2, 1, 0, 0, 2, 2, 1, 1, 2, 1, 1, 1, 0, 0, 0, 0, 1, 2, 0, 2, 0, 2, 2, 2, 1, 0, 2, 0, 0, 1, 0, 0, 2, 0, 0, 0, 2, 1, 1, 2, 2, 1, 1, 2, 2, 1, 2, 2, 1, 0, 1, 1, 1, 0, 0, 0, 0, 0, 2, 2, 1, 0, 0, 1, 0, 0, 1, 1, 1, 0, 0, 0, 2, 1, 1, 1, 2, 1, 0, 0, 1, 0, 0, 2, 2, 1, 0, 2, 2, 0, 2, 2, 1, 1, 1, 0, 0, 1, 2, 2, 1, 1, 1, 1, 2, 2, 1, 2, 2, 0, 1, 0, 2, 2, 0, 2, 1, 1, 0, 2, 1, 2, 0, 0, 2, 0, 1, 2, 2, 0, 1, 1, 1, 0, 1, 2, 0, 0, 1, 0, 1, 2, 2, 0, 0, 1, 0, 2, 1, 2, 2, 2, 0, 0, 2, 1, 1, 2, 0, 0, 2, 2, 2, 1, 2, 0, 2, 0, 2, 2, 0, 2, 1, 0, 2, 1, 0, 2, 0, 1, 2, 2, 1, 0, 2, 2, 0, 2, 2, 2, 0, 0, 1, 2, 1, 0, 2, 0, 1, 0, 0, 0, 1, 2, 2, 0, 1, 0, 0, 2, 1, 0, 2, 0, 2, 1, 2, 2, 2, 1, 1, 2, 1, 0, 1, 2, 2, 1, 0, 1, 2, 1, 2, 2, 2, 0, 0, 1, 1, 2, 1, 1, 0, 0, 0, 0, 1, 2, 0, 0, 0, 0, 0, 0, 2, 1, 1, 0, 0, 1, 2, 0, 2, 0, 2, 2, 1, 1, 2, 2, 1, 1, 2, 2, 1, 2, 1, 0, 2, 2, 0, 0, 0, 2, 2, 1, 0, 1, 2, 0, 0, 0, 0, 2, 1, 1, 1, 0, 1, 1, 1, 0, 1, 0, 1, 1, 1, 2, 1, 2, 2, 0, 2, 1, 2, 2, 2, 1, 2, 1, 2, 0, 2, 2, 0, 1, 1, 2, 2, 0, 0, 2, 1, 1, 1, 1, 0, 0, 2, 1, 2, 0, 2, 1, 1, 1, 0, 0, 2, 1, 1, 2, 0, 2, 1, 2, 2, 0, 2, 2, 1, 0, 2, 1, 2, 2, 2, 0, 0, 1, 0, 2, 2, 0, 1, 2, 1, 1, 1, 0, 2, 1, 0, 2, 1, 2, 1, 2, 2, 0, 1, 0, 1, 2, 2, 1, 1, 1, 2, 1, 1, 0, 0, 2, 0, 2, 0, 2, 2, 1, 0, 1, 2, 2, 0, 1, 1, 2, 1, 2, 0, 0, 2, 0, 1, 1, 1, 1, 2, 1, 2, 0, 1, 0, 2, 1, 1, 2, 1, 1, 1, 1, 0, 1, 1, 2, 1, 0, 1, 0, 0, 1, 0, 2, 0, 2, 1, 2, 2, 0, 2, 1, 1, 1, 2, 1, 0, 2, 0, 0, 1, 0, 0, 1, 2, 0, 1, 2, 2, 0, 1, 2, 0, 1, 2, 1, 1, 1, 2, 0, 1, 1, 2, 2, 0, 2, 2, 2, 1, 1, 2, 2, 0, 0, 2, 2, 2, 0, 0, 2, 0, 0, 1, 1, 0, 1, 0, 2, 0, 1, 1, 1, 1, 0, 0, 1, 2, 1, 2, 2, 2, 0, 2, 1, 2, 1, 2, 1, 2, 2, 2, 0, 2, 1, 1, 2, 0, 1, 2, 0, 1, 1, 2, 0, 0, 2, 2, 0, 2, 0, 0, 2, 2, 2, 1, 2, 2, 1, 2, 1, 1, 1, 2, 2, 2, 0, 2, 0, 0, 0, 2, 1, 2, 0, 2, 2, 1, 1, 1, 2, 1, 2, 1, 0, 1, 1, 0, 1, 1, 0, 0, 0, 2, 2, 1, 1, 0, 2, 2]\n"
     ]
    }
   ],
   "source": [
    "\n",
    "# Loop over the number of simulations.\n",
    "for i in range(num_sim):\n",
    "\n",
    "    # The attacker rolls 3 dice, the defender - 2 dice, values between 1 and 6.\n",
    "    attacker = random.choices(range(1, 7), k=3)\n",
    "    defender = random.choices(range(1, 7), k=2)\n",
    "    \n",
    "    # Loss counters for each simulation, the code sets both loss counters to zero for each new simulation.\n",
    "    attacker_losses, defender_losses = 0, 0\n",
    "    \n",
    "    # Sort dice rolls in descending order. \n",
    "    attacker_rolls = sorted(attacker, reverse=True)\n",
    "    defender_rolls = sorted(defender, reverse=True)\n",
    "    \n",
    "    # Compare dice rolls and record losses.\n",
    "    if attacker_rolls[0] > defender_rolls[0]:\n",
    "        defender_losses += 1\n",
    "    else:\n",
    "        attacker_losses += 1  \n",
    "    \n",
    "    if attacker_rolls[1] > defender_rolls[1]:\n",
    "        defender_losses += 1\n",
    "    else:\n",
    "        attacker_losses += 1  \n",
    "\n",
    "    # Store losses. \n",
    "    attacker_losslist.append(attacker_losses)\n",
    "    defender_losslist.append(defender_losses)\n",
    "\n",
    "# Show. \n",
    "print(attacker_losslist)\n",
    "print(defender_losslist)\n"
   ]
  },
  {
   "cell_type": "code",
   "execution_count": 4,
   "metadata": {},
   "outputs": [
    {
     "name": "stdout",
     "output_type": "stream",
     "text": [
      "[[2 0]\n",
      " [1 1]\n",
      " [1 1]\n",
      " [1 1]\n",
      " [0 2]\n",
      " [0 2]\n",
      " [0 2]\n",
      " [1 1]\n",
      " [0 2]\n",
      " [2 0]\n",
      " [2 0]\n",
      " [0 2]\n",
      " [1 1]\n",
      " [1 1]\n",
      " [0 2]\n",
      " [1 1]\n",
      " [2 0]\n",
      " [0 2]\n",
      " [1 1]]\n"
     ]
    }
   ],
   "source": [
    "# Combine attacker and defender losses into a matrix with two columns.\n",
    "losses_matrix = np.column_stack((attacker_losslist, defender_losslist))\n",
    "\n",
    "# Print the first 20 rows of the matrix (from row 1 to row 20).\n",
    "print(losses_matrix[1:20])"
   ]
  },
  {
   "cell_type": "code",
   "execution_count": 5,
   "metadata": {},
   "outputs": [
    {
     "data": {
      "text/plain": [
       "(array([[0, 2],\n",
       "        [1, 1],\n",
       "        [2, 0]]),\n",
       " array([340, 346, 314], dtype=int64))"
      ]
     },
     "execution_count": 5,
     "metadata": {},
     "output_type": "execute_result"
    }
   ],
   "source": [
    "# Count the number of times each value occurs.\n",
    "uniques, counts = np.unique(losses_matrix,  axis=0, return_counts=True)\n",
    "\n",
    "# Show.\n",
    "uniques, counts"
   ]
  },
  {
   "cell_type": "code",
   "execution_count": 6,
   "metadata": {},
   "outputs": [
    {
     "data": {
      "image/png": "[encoded data removed]",
      "text/plain": [
       "<Figure size 640x480 with 1 Axes>"
      ]
     },
     "metadata": {},
     "output_type": "display_data"
    }
   ],
   "source": [
    "# Create a blank plot.\n",
    "fig, ax = plt.subplots()\n",
    "\n",
    "# Create a bar chart.\n",
    "bars = ax.bar(range(len(counts)), counts, tick_label=[f\"{u[0]}-{u[1]}\" for u in uniques], color=\"red\", edgecolor=\"black\", linewidth = 3)\n",
    "\n",
    "# Add title.\n",
    "ax.set_title(\"Frequency of unique outputs in Risk game\")\n",
    "\n",
    "# Add limit for y-axis. \n",
    "ax.set_ylim(0,500)\n",
    "\n",
    "# Add text to the plot. \n",
    "for bar in bars:\n",
    "    val = bar.get_height()\n",
    "    ax.text(bar.get_x() + bar.get_width() / 2, val + 5, int(val), ha=\"center\", va=\"bottom\")\n",
    "\n",
    "# Add axis label.\n",
    "ax.set_xlabel(\"Losses (Attacker-Defender)\")\n",
    "ax.set_ylabel(\"Frequency\");"
   ]
  },
  {
   "cell_type": "markdown",
   "metadata": {},
   "source": [
    "*** \n",
    "\n",
    "### END\n",
    "\n",
    "***"
   ]
  }
 ],
 "metadata": {
  "kernelspec": {
   "display_name": "base",
   "language": "python",
   "name": "python3"
  },
  "language_info": {
   "codemirror_mode": {
    "name": "ipython",
    "version": 3
   },
   "file_extension": ".py",
   "mimetype": "text/x-python",
   "name": "python",
   "nbconvert_exporter": "python",
   "pygments_lexer": "ipython3",
   "version": "3.11.5"
  }
 },
 "nbformat": 4,
 "nbformat_minor": 2
}
